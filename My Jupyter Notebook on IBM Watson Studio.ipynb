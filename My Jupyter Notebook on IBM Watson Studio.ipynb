{
    "cells": [
        {
            "cell_type": "markdown",
            "metadata": {
                "collapsed": true
            },
            "source": "# My Jupyter Notebook on IBM Watson Studio"
        },
        {
            "cell_type": "markdown",
            "metadata": {},
            "source": " **ALISHA SHAIK**\n \n Software Engineer"
        },
        {
            "cell_type": "markdown",
            "metadata": {},
            "source": "*I am interested in data science because, Data is an important asset that is going to play a major role in the future, and also analysing it helps us to solve the problems related to the field from which the data is.*"
        },
        {
            "cell_type": "markdown",
            "metadata": {},
            "source": "### My code is a simple print, it prints whatever we gives inside the paranthesis and within quotes(sinle/double)beside the print, as shown in the cell below"
        },
        {
            "cell_type": "code",
            "execution_count": 10,
            "metadata": {},
            "outputs": [
                {
                    "name": "stdout",
                    "output_type": "stream",
                    "text": "Hello\n"
                }
            ],
            "source": "print('Hello')"
        },
        {
            "cell_type": "markdown",
            "metadata": {},
            "source": "Types of Horizontal rule\n---"
        },
        {
            "cell_type": "markdown",
            "metadata": {},
            "source": "***"
        },
        {
            "cell_type": "markdown",
            "metadata": {},
            "source": "___"
        },
        {
            "cell_type": "markdown",
            "metadata": {},
            "source": "> This is a blockquote, which is created as a part of this assignment.\n"
        },
        {
            "cell_type": "markdown",
            "metadata": {},
            "source": "~~Strikethrough~~"
        },
        {
            "cell_type": "markdown",
            "metadata": {},
            "source": "Image\nInline-style: \n![alt text](https://github.com/adam-p/markdown-here/raw/master/src/common/images/icon48.png \"Logo Title Text 1\")\n"
        },
        {
            "cell_type": "markdown",
            "metadata": {},
            "source": "Inline `code` has `syntax/code highlighting` it."
        },
        {
            "cell_type": "markdown",
            "metadata": {},
            "source": "Table\n\n| Score         | Alisha        | Jane  |\n| ------------- |:-------------:| -----:|\n| Score         | 10            | 5     |\n"
        },
        {
            "cell_type": "markdown",
            "metadata": {},
            "source": "Hyperlink\n\n[This ia a link to google](https://www.google.com)"
        },
        {
            "cell_type": "code",
            "execution_count": null,
            "metadata": {},
            "outputs": [],
            "source": ""
        }
    ],
    "metadata": {
        "kernelspec": {
            "display_name": "Python 3.7",
            "language": "python",
            "name": "python3"
        },
        "language_info": {
            "codemirror_mode": {
                "name": "ipython",
                "version": 3
            },
            "file_extension": ".py",
            "mimetype": "text/x-python",
            "name": "python",
            "nbconvert_exporter": "python",
            "pygments_lexer": "ipython3",
            "version": "3.7.10"
        }
    },
    "nbformat": 4,
    "nbformat_minor": 1
}